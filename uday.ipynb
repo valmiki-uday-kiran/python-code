{
 "cells": [
  {
   "cell_type": "code",
   "execution_count": 3,
   "id": "8915ed14-6545-4e1c-bda3-93d4a4b0a9ea",
   "metadata": {},
   "outputs": [
    {
     "name": "stdin",
     "output_type": "stream",
     "text": [
      "enter the name uday\n",
      "enter the age 15\n"
     ]
    },
    {
     "name": "stdout",
     "output_type": "stream",
     "text": [
      "uday\n",
      "not eligible for vote\n"
     ]
    }
   ],
   "source": [
    "name=input(\"enter the name\")\n",
    "age=int(input(\"enter the age\"))\n",
    "if age>=18:\n",
    "     print(name)\n",
    "     print(\"eligible for vote\")\n",
    "else:\n",
    "     print(name)\n",
    "     print(\"not eligible for vote\")\n"
   ]
  },
  {
   "cell_type": "markdown",
   "id": "ad73a67c-4e37-4a0d-a8f6-dd9aa505e5f9",
   "metadata": {},
   "source": [
    "##### a=int(input(\"enter the a value\"))\n",
    "b=int(input(\"enter the b value\"))\n",
    "c=int(input(\"enter the c value\"))\n",
    "if a>b:\n",
    "    if a>c:\n",
    "        print(\"a is greater\")\n",
    "    else:\n",
    "       print(\"c is greater\")\n",
    "else:\n",
    "     if b>c:\n",
    "       print(\"b is greater\")\n",
    "     else:\n",
    "       print(\"c is greater\")\n",
    "        \n",
    "    "
   ]
  },
  {
   "cell_type": "code",
   "execution_count": 33,
   "id": "62d804f7-56ca-4b92-9214-6df77340eb7e",
   "metadata": {},
   "outputs": [
    {
     "name": "stdout",
     "output_type": "stream",
     "text": [
      "0\n",
      "1\n",
      "2\n",
      "3\n",
      "4\n",
      "5\n",
      "6\n",
      "7\n",
      "8\n",
      "9\n"
     ]
    }
   ],
   "source": [
    "for i in range(0,10):\n",
    "    print(i)"
   ]
  },
  {
   "cell_type": "code",
   "execution_count": 36,
   "id": "62a95c1a-59e4-4732-972a-316cc989d848",
   "metadata": {},
   "outputs": [
    {
     "name": "stdout",
     "output_type": "stream",
     "text": [
      "0\n",
      "1\n",
      "2\n",
      "3\n",
      "4\n",
      "5\n",
      "6\n",
      "7\n",
      "8\n",
      "9\n"
     ]
    }
   ],
   "source": [
    "x=0\n",
    "while x<10:\n",
    "    print(x)\n",
    "    x=x+1"
   ]
  },
  {
   "cell_type": "code",
   "execution_count": 6,
   "id": "cb9f98b6-7b6b-4f40-ae19-dde41ae6cab3",
   "metadata": {},
   "outputs": [
    {
     "name": "stdout",
     "output_type": "stream",
     "text": [
      "* \n",
      "* \n",
      "* \n",
      "* \n",
      "* \n",
      "* \n",
      "* \n",
      "* \n",
      "* \n",
      "* \n",
      "* \n",
      "* \n",
      "* \n",
      "* \n",
      "* \n",
      "* \n",
      "* \n",
      "* \n",
      "* \n",
      "* \n",
      "* \n",
      "* \n",
      "* \n",
      "* \n",
      "* \n",
      "* \n",
      "* \n",
      "* \n",
      "* \n",
      "* \n",
      "* \n",
      "* \n",
      "* \n",
      "* \n",
      "* \n",
      "* \n",
      "* \n",
      "* \n",
      "* \n",
      "* \n",
      "* \n",
      "* \n",
      "* \n",
      "* \n",
      "* \n",
      "* \n",
      "* \n",
      "* \n",
      "* \n",
      "* \n",
      "* \n",
      "* \n",
      "* \n",
      "* \n",
      "* \n"
     ]
    }
   ],
   "source": [
    "for y in range(0,10):\n",
    "    for x in range(0,y+1):\n",
    "        print(\"*\",end=\" \")\n",
    "        print()"
   ]
  },
  {
   "cell_type": "code",
   "execution_count": 8,
   "id": "d1e654a1-077a-4005-98d8-952e4345be7e",
   "metadata": {},
   "outputs": [
    {
     "name": "stdin",
     "output_type": "stream",
     "text": [
      "enter number 23\n",
      "enter number 45\n",
      "enter number 78\n"
     ]
    },
    {
     "name": "stdout",
     "output_type": "stream",
     "text": [
      "78\n"
     ]
    }
   ],
   "source": [
    "a=int(input(\"enter number\"))\n",
    "b=int(input(\"enter number\"))\n",
    "c=int(input(\"enter number\"))\n",
    "if a>b and a>c:\n",
    "    print(a)\n",
    "else:\n",
    "    c=b if b>c else c\n",
    "    print(c)"
   ]
  },
  {
   "cell_type": "code",
   "execution_count": 11,
   "id": "1d52cdd7-4d5e-4f37-b2ef-f34553b7c2c6",
   "metadata": {},
   "outputs": [
    {
     "name": "stdin",
     "output_type": "stream",
     "text": [
      "enter number 45\n",
      "enter number 89\n",
      "enter number 32\n"
     ]
    },
    {
     "name": "stdout",
     "output_type": "stream",
     "text": [
      "89\n"
     ]
    }
   ],
   "source": [
    "a=int(input(\"enter number\"))\n",
    "b=int(input(\"enter number\"))\n",
    "c=int(input(\"enter number\"))\n",
    "d=a if a>b and a>c else(b if b>c else c)\n",
    "print(d)"
   ]
  },
  {
   "cell_type": "code",
   "execution_count": 13,
   "id": "8b1de533-93ff-4bbb-8ed8-0d83fa1bc1a0",
   "metadata": {},
   "outputs": [
    {
     "data": {
      "text/plain": [
       "True"
      ]
     },
     "execution_count": 13,
     "metadata": {},
     "output_type": "execute_result"
    }
   ],
   "source": [
    "s=\"uday is eating\"\n",
    "'uday is' in s"
   ]
  },
  {
   "cell_type": "code",
   "execution_count": 16,
   "id": "7c4af030-5dcf-4a3c-9616-7bda1de2a20a",
   "metadata": {},
   "outputs": [
    {
     "name": "stdout",
     "output_type": "stream",
     "text": [
      "udaykiran\n"
     ]
    }
   ],
   "source": [
    "print(\"uday\"+\"kiran\")"
   ]
  },
  {
   "cell_type": "code",
   "execution_count": 17,
   "id": "ff042756-615c-4ebe-9af0-8381e6f51eca",
   "metadata": {},
   "outputs": [
    {
     "name": "stdout",
     "output_type": "stream",
     "text": [
      "hello@hiQ"
     ]
    }
   ],
   "source": [
    "print(\"hello\",end='@')\n",
    "print(\"hi\",end='Q')"
   ]
  },
  {
   "cell_type": "code",
   "execution_count": 19,
   "id": "77cb506a-9985-442c-938f-e2df2e954c59",
   "metadata": {},
   "outputs": [
    {
     "name": "stdout",
     "output_type": "stream",
     "text": [
      "first value is 10 second value is 20 third value is 30\n"
     ]
    }
   ],
   "source": [
    "a=10\n",
    "b=20\n",
    "c=30\n",
    "print(\"first value is\",a,\"second value is\",b,\"third value is\",c)"
   ]
  },
  {
   "cell_type": "code",
   "execution_count": 23,
   "id": "2b5dd6d6-2458-4e6b-b736-35b376d6755d",
   "metadata": {},
   "outputs": [
    {
     "name": "stdout",
     "output_type": "stream",
     "text": [
      "hi \n",
      " everyone\n"
     ]
    }
   ],
   "source": [
    "print(\"hi \\n everyone\")"
   ]
  },
  {
   "cell_type": "code",
   "execution_count": 5,
   "id": "aebf3c7c-3f17-487b-b9b1-9b38d5788582",
   "metadata": {},
   "outputs": [
    {
     "name": "stdout",
     "output_type": "stream",
     "text": [
      "u\n",
      "d\n",
      "a\n",
      "y\n"
     ]
    }
   ],
   "source": [
    "for u in \"uday\":\n",
    "    print(u)"
   ]
  },
  {
   "cell_type": "code",
   "execution_count": 3,
   "id": "0d1a3dae-2994-4842-ade0-655133fd0e88",
   "metadata": {},
   "outputs": [
    {
     "name": "stdout",
     "output_type": "stream",
     "text": [
      "2\n",
      "4\n",
      "6\n",
      "8\n",
      "10\n",
      "12\n",
      "14\n",
      "16\n",
      "18\n",
      "20\n",
      "22\n",
      "24\n",
      "26\n",
      "28\n",
      "30\n",
      "32\n",
      "34\n",
      "36\n",
      "38\n",
      "40\n",
      "42\n",
      "44\n",
      "46\n",
      "48\n",
      "50\n",
      "52\n",
      "54\n",
      "56\n",
      "58\n",
      "60\n",
      "62\n",
      "64\n",
      "66\n",
      "68\n",
      "70\n",
      "72\n",
      "74\n",
      "76\n",
      "78\n",
      "80\n",
      "82\n",
      "84\n",
      "86\n",
      "88\n",
      "90\n",
      "92\n",
      "94\n",
      "96\n",
      "98\n",
      "100\n"
     ]
    }
   ],
   "source": [
    "for i in range(1,101):\n",
    "    if i%2==0:\n",
    "        print(i)"
   ]
  },
  {
   "cell_type": "code",
   "execution_count": 4,
   "id": "5e2a9ce0-802c-4d1e-87c0-1c608f2d3552",
   "metadata": {},
   "outputs": [
    {
     "name": "stdin",
     "output_type": "stream",
     "text": [
      "Enter a number:  4\n"
     ]
    },
    {
     "name": "stdout",
     "output_type": "stream",
     "text": [
      "Factorial of 4 is 24\n"
     ]
    }
   ],
   "source": [
    "n = int(input(\"Enter a number: \"))\n",
    "prod = 1\n",
    "for i in range(1, n+1):\n",
    "    prod *= i\n",
    "print(\"Factorial of\", n, \"is\", prod)\n"
   ]
  },
  {
   "cell_type": "code",
   "execution_count": 10,
   "id": "1fb532f8-13a1-4fbe-bb96-d7d06eb30cc1",
   "metadata": {},
   "outputs": [
    {
     "name": "stdout",
     "output_type": "stream",
     "text": [
      "27\n"
     ]
    }
   ],
   "source": [
    "l1=[8,9,6,4]\n",
    "sum=0\n",
    "for i in l1:\n",
    "    sum=sum+i\n",
    "print(sum)"
   ]
  },
  {
   "cell_type": "code",
   "execution_count": 11,
   "id": "c91f21bb-9513-4876-956e-9fde7cb788d7",
   "metadata": {},
   "outputs": [
    {
     "name": "stdin",
     "output_type": "stream",
     "text": [
      "Enter a number:  4\n"
     ]
    },
    {
     "name": "stdout",
     "output_type": "stream",
     "text": [
      "24\n"
     ]
    }
   ],
   "source": [
    "n = int(input(\"Enter a number: \"))\n",
    "i=1\n",
    "p=1\n",
    "while i<=n:\n",
    "    p=p*i\n",
    "    i=i+1\n",
    "print(p)\n",
    "    "
   ]
  },
  {
   "cell_type": "code",
   "execution_count": null,
   "id": "7907e943-1257-444e-83c6-cd895eea2558",
   "metadata": {},
   "outputs": [],
   "source": []
  }
 ],
 "metadata": {
  "kernelspec": {
   "display_name": "Python 3 (ipykernel)",
   "language": "python",
   "name": "python3"
  },
  "language_info": {
   "codemirror_mode": {
    "name": "ipython",
    "version": 3
   },
   "file_extension": ".py",
   "mimetype": "text/x-python",
   "name": "python",
   "nbconvert_exporter": "python",
   "pygments_lexer": "ipython3",
   "version": "3.12.3"
  }
 },
 "nbformat": 4,
 "nbformat_minor": 5
}

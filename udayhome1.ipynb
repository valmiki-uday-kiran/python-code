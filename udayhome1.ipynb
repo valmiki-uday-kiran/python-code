{
 "cells": [
  {
   "cell_type": "code",
   "execution_count": 1,
   "id": "b237bc4f-7744-42eb-9f8c-e1fbc096fa53",
   "metadata": {},
   "outputs": [
    {
     "name": "stdin",
     "output_type": "stream",
     "text": [
      "enter the temperature in celsius: 45\n"
     ]
    },
    {
     "name": "stdout",
     "output_type": "stream",
     "text": [
      "temperature in fahrenheit 113.0\n"
     ]
    }
   ],
   "source": [
    "#convert a temperature from celsius to fahrenheit\n",
    "c=float(input(\"enter the temperature in celsius:\"))\n",
    "f=(c*9/5)+32\n",
    "print(\"temperature in fahrenheit\",f)"
   ]
  },
  {
   "cell_type": "code",
   "execution_count": 10,
   "id": "b8ac17be-6945-43c6-98cb-3009ef7f5a71",
   "metadata": {},
   "outputs": [
    {
     "name": "stdout",
     "output_type": "stream",
     "text": [
      "the largest number in list: 9\n"
     ]
    }
   ],
   "source": [
    "#find the largest element in a list\n",
    "l=[2,4,1,8,5,9]\n",
    "max_num=l[0]\n",
    "for i in range(1,len(l)):\n",
    "    if l[i]>max_num:\n",
    "        max_num=l[i]\n",
    "print(\"the largest number in list:\",max)"
   ]
  },
  {
   "cell_type": "code",
   "execution_count": 13,
   "id": "54b1aaba-02df-4315-8919-e4e0b32afe2c",
   "metadata": {},
   "outputs": [
    {
     "name": "stdout",
     "output_type": "stream",
     "text": [
      "second largest element in list is: 8\n"
     ]
    }
   ],
   "source": [
    "#find the second largest element in a list\n",
    "l=[2,4,1,8,5,9]\n",
    "max_num=l[0]\n",
    "second_max=float('-inf')\n",
    "for i in range(1,len(l)):\n",
    "    if l[i]>max_num:\n",
    "        second_max=max_num\n",
    "        max_num=l[i]\n",
    "print(\"second largest element in list is:\",second_max)"
   ]
  },
  {
   "cell_type": "code",
   "execution_count": 21,
   "id": "be5e8fb1-817f-4c27-be67-7d82dda54eb2",
   "metadata": {},
   "outputs": [
    {
     "name": "stdout",
     "output_type": "stream",
     "text": [
      "number of times the elemnt 5 repeated is: 3\n"
     ]
    }
   ],
   "source": [
    "#repetation count of element in list\n",
    "l=[5,7,3,5,1,9,5]\n",
    "x=5\n",
    "count=0\n",
    "for i in l:\n",
    "    if i==x:\n",
    "        count=count+1\n",
    "print(\"number of times the elemnt\",x,\"repeated is:\",count)"
   ]
  },
  {
   "cell_type": "code",
   "execution_count": 23,
   "id": "5f6946d7-b7aa-420e-a6f0-862603b6421d",
   "metadata": {},
   "outputs": [
    {
     "name": "stdout",
     "output_type": "stream",
     "text": [
      "sumof even numbers in list is: 20\n"
     ]
    }
   ],
   "source": [
    "#sum of even numbers in list\n",
    "l=[2,7,4,6,8,1]\n",
    "sum=0\n",
    "for i in l:\n",
    "    if i%2==0:\n",
    "        sum=sum+i\n",
    "print(\"sumof even numbers in list is:\",sum)"
   ]
  },
  {
   "cell_type": "code",
   "execution_count": 25,
   "id": "e4b353fb-6c71-487c-a385-b8c756840e5d",
   "metadata": {},
   "outputs": [
    {
     "name": "stdout",
     "output_type": "stream",
     "text": [
      "Number of vowels in the string: 3\n"
     ]
    }
   ],
   "source": [
    "#finding number of vowels in string\n",
    "def count_vowels(string):\n",
    "    vowels = {'a', 'e', 'i', 'o', 'u', 'A', 'E', 'I', 'O', 'U'}\n",
    "    count = 0\n",
    "    \n",
    "    for char in string:\n",
    "        if char in vowels:\n",
    "            count += 1\n",
    "    \n",
    "    return count\n",
    "\n",
    "my_string = \"Hello, World!\"\n",
    "vowel_count = count_vowels(my_string)\n",
    "print(\"Number of vowels in the string:\", vowel_count)"
   ]
  },
  {
   "cell_type": "code",
   "execution_count": 26,
   "id": "ec1a5338-1f4e-4adc-820a-17335de259ab",
   "metadata": {},
   "outputs": [
    {
     "name": "stdout",
     "output_type": "stream",
     "text": [
      "Reversed sentence: you? are how world, Hello\n"
     ]
    }
   ],
   "source": [
    "#reversing a sentence\n",
    "def reverse_sentence(sentence):\n",
    "    words = []\n",
    "    word_start = 0\n",
    "    for i in range(len(sentence)):\n",
    "        if sentence[i] == ' ':\n",
    "            words.append(sentence[word_start:i])\n",
    "            word_start = i + 1\n",
    "    words.append(sentence[word_start:])  \n",
    "    \n",
    "    reversed_sentence = \"\"\n",
    "    for i in range(len(words) - 1, -1, -1):\n",
    "        reversed_sentence += words[i] + ' '\n",
    "    reversed_sentence = reversed_sentence[:-1]\n",
    "    \n",
    "    return reversed_sentence\n",
    "\n",
    "sentence = \"Hello world, how are you?\"\n",
    "reversed_sentence = reverse_sentence(sentence)\n",
    "print(\"Reversed sentence:\", reversed_sentence)\n"
   ]
  }
 ],
 "metadata": {
  "kernelspec": {
   "display_name": "Python 3 (ipykernel)",
   "language": "python",
   "name": "python3"
  },
  "language_info": {
   "codemirror_mode": {
    "name": "ipython",
    "version": 3
   },
   "file_extension": ".py",
   "mimetype": "text/x-python",
   "name": "python",
   "nbconvert_exporter": "python",
   "pygments_lexer": "ipython3",
   "version": "3.12.3"
  }
 },
 "nbformat": 4,
 "nbformat_minor": 5
}
